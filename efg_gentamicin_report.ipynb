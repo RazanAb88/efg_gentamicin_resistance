{
 "cells": [
  {
   "cell_type": "markdown",
   "id": "dd1f350d-3c91-4fc5-852a-beb030fddd7e",
   "metadata": {},
   "source": [
    "# Structural Insights into EF-G Mutations Conferring Gentamicin Resistance\n",
    "\n",
    "## Background\n",
    "\n",
    "Gentamicin is an aminoglycoside antibiotic that targets the bacterial ribosome, disrupting protein synthesis. EF-G (Elongation Factor G) plays a critical role in ribosomal translocation during translation. Mutations in EF-G have been implicated in resistance mechanisms, potentially by altering its interaction with the ribosome or the antibiotic itself.\n",
    "\n",
    "## Methods\n",
    "\n",
    "We used AlphaFold to generate 3D structural models of EF-G based on sequencing data from wild-type and gentamicin-resistant strains. These models were superimposed to detect conformational changes. To contextualise the mutations, we mapped them onto a published high-resolution crystal structure of the bacterial ribosome complexed with EF-G.\n",
    "\n",
    "Structural alignment and mutation mapping were performed using Biopython’s `Superimposer`, `FastMMCIFParser`, and `nglview` for interactive visualisation. Domain-level analysis focused on Domain IV of EF-G, which is proximal to the gentamicin binding site.\n",
    "\n",
    "## Results\n",
    "\n",
    "Superposition of wild-type and mutant EF-G models revealed a subtle but consistent conformational shift in Domain IV. This domain lies adjacent to the gentamicin binding pocket on the ribosome. The detected mutations cluster near this interface, suggesting a potential steric or electrostatic disruption that could reduce gentamicin binding affinity or alter its efficacy.\n",
    "\n",
    "Mapping these mutations onto the ribosome structure highlighted their spatial proximity to the decoding center, reinforcing their possible role in resistance.\n",
    "\n",
    "## Interpretation\n",
    "\n",
    "The observed structural deviation in Domain IV may hinder gentamicin’s ability to bind effectively, contributing to antibiotic resistance. These findings support the hypothesis that EF-G mutations can indirectly modulate ribosomal conformation or antibiotic accessibility, offering a mechanistic explanation for resistance phenotypes.\n",
    "\n",
    "Further experimental validation (e.g., binding assays or cryo-EM) would strengthen this model, but the computational evidence provides a strong foundation for hypothesis-driven research and potential drug redesign strategies.\n",
    "\n"
   ]
  },
  {
   "cell_type": "markdown",
   "id": "08c4983c-fa61-4c2b-b4de-c02f6960e358",
   "metadata": {},
   "source": [
    "**Author**: Razan  \n",
    "**Tools**: AlphaFold, Biopython, nglview  \n",
    "**Goal**: Investigate how EF-G mutations affect gentamicin binding using structural modeling and superposition.\n"
   ]
  }
 ],
 "metadata": {
  "kernelspec": {
   "display_name": "Python 3 (ipykernel)",
   "language": "python",
   "name": "python3"
  },
  "language_info": {
   "codemirror_mode": {
    "name": "ipython",
    "version": 3
   },
   "file_extension": ".py",
   "mimetype": "text/x-python",
   "name": "python",
   "nbconvert_exporter": "python",
   "pygments_lexer": "ipython3",
   "version": "3.12.3"
  }
 },
 "nbformat": 4,
 "nbformat_minor": 5
}
